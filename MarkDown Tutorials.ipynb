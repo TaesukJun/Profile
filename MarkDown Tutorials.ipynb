{
 "cells": [
  {
   "cell_type": "code",
   "execution_count": 1,
   "id": "b9a1faf2",
   "metadata": {},
   "outputs": [
    {
     "name": "stdout",
     "output_type": "stream",
     "text": [
      "Here is the MarkDown Tutorials\n"
     ]
    }
   ],
   "source": [
    "print('Here is the MarkDown Tutorials')"
   ]
  },
  {
   "cell_type": "code",
   "execution_count": null,
   "id": "f5a86cb4",
   "metadata": {},
   "outputs": [],
   "source": []
  },
  {
   "cell_type": "markdown",
   "id": "3b17c9c8",
   "metadata": {},
   "source": [
    "# Headings\n",
    "<span style=\"color:blue\">The Headings starts with '#,' i.e., hash symbol followed by the space, and there are six Headings with the largest heading only using one hash symbol and the smallest titles using six hash symbols.</span>\n",
    "\n",
    "# (Header 1, title)\n",
    "## (Header 2, major headings)\n",
    "### (Header 3, subheadings)\n",
    "#### (Header 4)\n",
    "##### (Header 5)\n",
    "###### (Header 6)\n",
    "\n",
    "\n",
    "<span style=\"color:blue\">Alternatively, the headings can start with Markup Tags, i.e., from h1 to h6 with the following syntaxes.</span>\n",
    "\n",
    "<h1>Header 1,title</h1>\n",
    "<h2>Header 2,major headings\n",
    "<h3>Header 3,subheadings\n",
    "<h4>Header 4\n",
    "<h5>Header 5\n",
    "<h6>Header 6\n",
    "\n"
   ]
  },
  {
   "cell_type": "markdown",
   "id": "ebdbca28",
   "metadata": {},
   "source": [
    "# Headings\n",
    "\n",
    "# (Header 1, title)\n",
    "\n",
    "## (Header 2, major headings)\n",
    "\n",
    "### (Header 3, subheadings)\n",
    "\n",
    "#### (Header 4)\n",
    "\n",
    "##### (Header 5)\n",
    "\n",
    "###### (Header 6)``\n",
    "\n",
    "\n",
    ">This is good\n",
    "\n",
    "<blockquote>This is good</blockquote>\n",
    "\n",
    "\n",
    "\n",
    "\n",
    "```Python \n",
    "\n",
    "str = \"This is block level code\" \n",
    "print(str) \n",
    "\n",
    "``` \n",
    "\n",
    "\\$\\sqrt{k}$\n",
    "\n"
   ]
  },
  {
   "cell_type": "markdown",
   "id": "eed8a4b2",
   "metadata": {},
   "source": [
    "# Headings\n",
    "\n",
    "# (Header 1, title)\n",
    "\n",
    "## (Header 2, major headings)\n",
    "\n",
    "### (Header 3, subheadings)\n",
    "\n",
    "#### (Header 4)\n",
    "\n",
    "##### (Header 5)\n",
    "\n",
    "###### (Header 6)``\n",
    "\n",
    "\n",
    ">This is good\n",
    "\n",
    "<blockquote>This is good</blockquote>\n",
    "\n",
    "\n",
    "\n",
    "\n",
    "```Python \n",
    "\n",
    "str = \"This is block level code\" \n",
    "print(str) \n",
    "\n",
    "``` \n",
    "\n",
    "\\$\\sqrt{k}$\n",
    "\n"
   ]
  },
  {
   "cell_type": "markdown",
   "id": "bd563650",
   "metadata": {},
   "source": [
    "# Headings\n",
    "\n",
    "# (Header 1, title)\n",
    "\n",
    "## (Header 2, major headings)\n",
    "\n",
    "### (Header 3, subheadings)\n",
    "\n",
    "#### (Header 4)\n",
    "\n",
    "##### (Header 5)\n",
    "\n",
    "###### (Header 6)``\n",
    "\n",
    "\n",
    ">This is good\n",
    "\n",
    "<blockquote>This is good</blockquote>\n",
    "\n",
    "\n",
    "\n",
    "\n",
    "```Python \n",
    "\n",
    "str = \"This is block level code\" \n",
    "print(str) \n",
    "\n",
    "``` \n",
    "\n",
    "\\$\\sqrt{k}$\n",
    "\n"
   ]
  },
  {
   "cell_type": "markdown",
   "id": "aac201e6",
   "metadata": {},
   "source": [
    "# Headings\n",
    "\n",
    "# (Header 1, title)\n",
    "\n",
    "## (Header 2, major headings)\n",
    "\n",
    "### (Header 3, subheadings)\n",
    "\n",
    "#### (Header 4)\n",
    "\n",
    "##### (Header 5)\n",
    "\n",
    "###### (Header 6)``\n",
    "\n",
    "\n",
    ">This is good\n",
    "\n",
    "<blockquote>This is good</blockquote>\n",
    "\n",
    "\n",
    "\n",
    "\n",
    "```Python \n",
    "\n",
    "str = \"This is block level code\" \n",
    "print(str) \n",
    "\n",
    "``` \n",
    "\n",
    "\\$\\sqrt{k}$\n",
    "\n"
   ]
  },
  {
   "cell_type": "markdown",
   "id": "7bac891b",
   "metadata": {},
   "source": []
  },
  {
   "cell_type": "code",
   "execution_count": null,
   "id": "c7bbc22c",
   "metadata": {},
   "outputs": [],
   "source": []
  },
  {
   "cell_type": "code",
   "execution_count": null,
   "id": "a11a1f6f",
   "metadata": {},
   "outputs": [],
   "source": []
  },
  {
   "cell_type": "code",
   "execution_count": null,
   "id": "119b8f63",
   "metadata": {},
   "outputs": [],
   "source": []
  }
 ],
 "metadata": {
  "kernelspec": {
   "display_name": "Python 3 (ipykernel)",
   "language": "python",
   "name": "python3"
  },
  "language_info": {
   "codemirror_mode": {
    "name": "ipython",
    "version": 3
   },
   "file_extension": ".py",
   "mimetype": "text/x-python",
   "name": "python",
   "nbconvert_exporter": "python",
   "pygments_lexer": "ipython3",
   "version": "3.10.9"
  },
  "varInspector": {
   "cols": {
    "lenName": 16,
    "lenType": 16,
    "lenVar": 40
   },
   "kernels_config": {
    "python": {
     "delete_cmd_postfix": "",
     "delete_cmd_prefix": "del ",
     "library": "var_list.py",
     "varRefreshCmd": "print(var_dic_list())"
    },
    "r": {
     "delete_cmd_postfix": ") ",
     "delete_cmd_prefix": "rm(",
     "library": "var_list.r",
     "varRefreshCmd": "cat(var_dic_list()) "
    }
   },
   "types_to_exclude": [
    "module",
    "function",
    "builtin_function_or_method",
    "instance",
    "_Feature"
   ],
   "window_display": false
  }
 },
 "nbformat": 4,
 "nbformat_minor": 5
}

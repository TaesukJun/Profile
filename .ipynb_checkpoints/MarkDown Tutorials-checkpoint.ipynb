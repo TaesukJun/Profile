{
 "cells": [
  {
   "cell_type": "code",
   "execution_count": 1,
   "id": "b9a1faf2",
   "metadata": {
    "scrolled": true
   },
   "outputs": [
    {
     "name": "stdout",
     "output_type": "stream",
     "text": [
      "Here is the MarkDown Tutorials\n"
     ]
    }
   ],
   "source": [
    "print('Here is the MarkDown Tutorials')"
   ]
  },
  {
   "cell_type": "markdown",
   "id": "21e6bed4",
   "metadata": {},
   "source": [
    "https://gist.github.com/ihoneymon/652be052a0727ad59601\n",
    "https://velog.io/@yuuuye/velog-%EB%A7%88%ED%81%AC%EB%8B%A4%EC%9A%B4MarkDown-%EC%9E%91%EC%84%B1%EB%B2%95\n",
    "\n",
    "\n",
    "\n",
    "\n",
    "\n",
    "Markdownをプレビューできるいくつかのウェブサイトがあります。通常、次のようなオンラインMarkdownビューアを使用できます：\n",
    "\n",
    "Dillinger: オンラインのMarkdownエディタおよびビューアです。\n",
    "https://dillinger.io/\n",
    "Markdown Live Preview: リアルタイムでMarkdownをプレビューできるシンプルなツールです。\n",
    "Markable: 編集とプレビューを提供するMarkdownエディタです。\n",
    "StackEdit: クラウドベースのMarkdownエディタで、プレビュー機能を提供しています。\n",
    "これらのツールは、ユーザーが作成したMarkdownドキュメントをリアルタイムでプレビューできるようにサポートしています。"
   ]
  },
  {
   "cell_type": "code",
   "execution_count": null,
   "id": "f5a86cb4",
   "metadata": {},
   "outputs": [],
   "source": []
  },
  {
   "cell_type": "markdown",
   "id": "3b17c9c8",
   "metadata": {},
   "source": [
    "# Headings\n",
    "<span style=\"color:blue\">The Headings starts with '#,' i.e., hash symbol followed by the space, and there are six Headings with the largest heading only using one hash symbol and the smallest titles using six hash symbols.</span>\n",
    "\n",
    "# (Header 1, title)\n",
    "## (Header 2, major headings)\n",
    "### (Header 3, subheadings)\n",
    "#### (Header 4)\n",
    "##### (Header 5)\n",
    "###### (Header 6)\n",
    "\n",
    "\n",
    "<span style=\"color:blue\">Alternatively, the headings can start with Markup Tags, i.e., from h1 to h6 with the following syntaxes.</span>\n",
    "\n",
    "<h1>Header 1,title</h1>\n",
    "<h2>Header 2,major headings\n",
    "<h3>Header 3,subheadings\n",
    "<h4>Header 4\n",
    "<h5>Header 5\n",
    "<h6>Header 6\n",
    "\n"
   ]
  },
  {
   "cell_type": "markdown",
   "id": "ebdbca28",
   "metadata": {},
   "source": [
    "# Table\n",
    "\n",
    "| Plugin | README |\n",
    "| ------ | ------ |\n",
    "| Dropbox | [plugins/dropbox/README.md][PlDb] |\n",
    "| GitHub | [plugins/github/README.md][PlGh] |\n",
    "| Google Drive | [plugins/googledrive/README.md][PlGd] |\n",
    "| OneDrive | [plugins/onedrive/README.md][PlOd] |\n",
    "| Medium | [plugins/medium/README.md][PlMe] |\n",
    "| Google Analytics | [plugins/googleanalytics/README.md][PlGa] |\n"
   ]
  },
  {
   "cell_type": "markdown",
   "id": "eed8a4b2",
   "metadata": {},
   "source": [
    "# BlockQuote\n",
    "\n",
    "> This is a first blockqute.\n",
    ">\t> This is a second blockqute.\n",
    ">\t>\t> This is a third blockqute.\n",
    "\n",
    "\n",
    "\n",
    ">This is good\n",
    "\n",
    "<blockquote>This is good</blockquote>\n"
   ]
  },
  {
   "cell_type": "markdown",
   "id": "bd563650",
   "metadata": {},
   "source": [
    "# Python code context\n",
    "\n",
    "```Python \n",
    "\n",
    "str = \"This is block level code\" \n",
    "print(str) \n",
    "\n",
    "``` \n",
    "\n",
    "## Code Block\n",
    "\n",
    "### using space\n",
    "\n",
    "This is a normal paragraph:\n",
    "\n",
    "    This is a code block.\n",
    "    \n",
    "end code block.\n",
    "\n",
    "### using \"<>\"\n",
    "<pre>\n",
    "<code>\n",
    "public class BootSpringBootApplication {\n",
    "  public static void main(String[] args) {\n",
    "    System.out.println(\"Hello, Honeymon\");\n",
    "  }\n",
    "}\n",
    "</code>\n",
    "</pre>\n",
    "\n",
    "### using '''\n",
    "\n",
    "```\n",
    "public class BootSpringBootApplication {\n",
    "  public static void main(String[] args) {\n",
    "    System.out.println(\"Hello, Honeymon\");\n",
    "  }\n",
    "}\n",
    "```"
   ]
  },
  {
   "cell_type": "markdown",
   "id": "aac201e6",
   "metadata": {},
   "source": [
    "# Math Symbol\n",
    "\n",
    "\\$\\sqrt{k}$\n",
    "\n"
   ]
  },
  {
   "cell_type": "markdown",
   "id": "7bac891b",
   "metadata": {},
   "source": [
    "# Lists\n",
    "\n",
    "<span style=\"color:blue\"> 現在、入力された数値に関係なく、順序は降順で定義されています。</span>\n",
    "\n",
    "1. First\n",
    "3. Third\n",
    "2. Second\n",
    "\n",
    "* aka\n",
    "  * midori\n",
    "    * ao\n",
    "\n",
    "+ aka\n",
    "  + midori\n",
    "    + ao\n",
    "\n",
    "- aka\n",
    "  - midori\n",
    "    - ao\n",
    "\n",
    "<span style=\"color:blue\"> 混ぜて使用することも可能です（私の好みの方法）。</span>\n",
    "\n",
    "* ichi\n",
    "  - ni\n",
    "    + san\n",
    "      + yon"
   ]
  },
  {
   "cell_type": "markdown",
   "id": "ea788acc",
   "metadata": {},
   "source": [
    "# Link\n",
    "\n",
    "## Hyperlink to URL\n",
    "\n",
    "[link keyword][id]\n",
    "\n",
    "[id]: https://naver.com \"Optional Title here-Ex)Naver\"\n",
    "\n",
    "// code\n",
    "Link: [Google][googlelink]\n",
    "\n",
    "[googlelink]: https://google.com \"Go google\"\n",
    "\n",
    "## Direct Link\n",
    "\n",
    "* Google: <http://google.com/>\n",
    "* E-mail: <address@example.com>\n",
    "\n"
   ]
  },
  {
   "cell_type": "markdown",
   "id": "8a6423a0",
   "metadata": {},
   "source": [
    "# Highlight\n",
    "\n",
    "*single asterisks* <br>\n",
    "_single underscores_ <br>\n",
    "**double asterisks** <br>\n",
    "__double underscores__ <br>\n",
    "~~cancelline~~\n"
   ]
  },
  {
   "cell_type": "code",
   "execution_count": null,
   "id": "d1ef9fa9",
   "metadata": {},
   "outputs": [],
   "source": []
  },
  {
   "cell_type": "code",
   "execution_count": null,
   "id": "84869c13",
   "metadata": {},
   "outputs": [],
   "source": []
  },
  {
   "cell_type": "code",
   "execution_count": null,
   "id": "709c5b0a",
   "metadata": {},
   "outputs": [],
   "source": []
  },
  {
   "cell_type": "code",
   "execution_count": null,
   "id": "575d9f06",
   "metadata": {},
   "outputs": [],
   "source": []
  },
  {
   "cell_type": "code",
   "execution_count": null,
   "id": "7385aae3",
   "metadata": {},
   "outputs": [],
   "source": []
  },
  {
   "cell_type": "code",
   "execution_count": null,
   "id": "ec842ea9",
   "metadata": {},
   "outputs": [],
   "source": []
  },
  {
   "cell_type": "code",
   "execution_count": null,
   "id": "76ff30aa",
   "metadata": {},
   "outputs": [],
   "source": []
  },
  {
   "cell_type": "code",
   "execution_count": null,
   "id": "0a070dd6",
   "metadata": {},
   "outputs": [],
   "source": []
  },
  {
   "cell_type": "code",
   "execution_count": null,
   "id": "e0db2cb5",
   "metadata": {},
   "outputs": [],
   "source": []
  },
  {
   "cell_type": "code",
   "execution_count": null,
   "id": "a11a1f6f",
   "metadata": {},
   "outputs": [],
   "source": []
  },
  {
   "cell_type": "code",
   "execution_count": null,
   "id": "119b8f63",
   "metadata": {},
   "outputs": [],
   "source": []
  }
 ],
 "metadata": {
  "kernelspec": {
   "display_name": "Python 3 (ipykernel)",
   "language": "python",
   "name": "python3"
  },
  "language_info": {
   "codemirror_mode": {
    "name": "ipython",
    "version": 3
   },
   "file_extension": ".py",
   "mimetype": "text/x-python",
   "name": "python",
   "nbconvert_exporter": "python",
   "pygments_lexer": "ipython3",
   "version": "3.10.9"
  },
  "varInspector": {
   "cols": {
    "lenName": 16,
    "lenType": 16,
    "lenVar": 40
   },
   "kernels_config": {
    "python": {
     "delete_cmd_postfix": "",
     "delete_cmd_prefix": "del ",
     "library": "var_list.py",
     "varRefreshCmd": "print(var_dic_list())"
    },
    "r": {
     "delete_cmd_postfix": ") ",
     "delete_cmd_prefix": "rm(",
     "library": "var_list.r",
     "varRefreshCmd": "cat(var_dic_list()) "
    }
   },
   "types_to_exclude": [
    "module",
    "function",
    "builtin_function_or_method",
    "instance",
    "_Feature"
   ],
   "window_display": false
  }
 },
 "nbformat": 4,
 "nbformat_minor": 5
}
